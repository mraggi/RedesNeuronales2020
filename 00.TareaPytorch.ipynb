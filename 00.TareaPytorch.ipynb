{
 "cells": [
  {
   "cell_type": "markdown",
   "metadata": {},
   "source": [
    "Ejercicio:\n",
    "1. Encuentra la derivada de x^2 + 2x + 5 evaluada en x = 1 (con pytorch).\n",
    "2. ¿Para qué sirve squeeze y unsqueeze? ¿Qué recomiendo usar en vez de unsqueeze? \n",
    "3. Si tengo una matriz A de 8x10, ¿de qué tamaño será `A[1:6,-2:]`?\n",
    "4. Súmale 10 al primer renglón y 20 al segundo renglón. Escribe poquito\n",
    "\n",
    "```txt\n",
    "2 4\n",
    "2 1\n",
    "```\n",
    "\n",
    "5. Crea una matriz de $n\\times m$ donde en la entrada $(i,j)$ esté el número $i+j$. No se vale usar la palabra \"for\". Con arange e indizar.\n",
    "\n",
    "6. Dado dos tensores lineales de tamaño $n\\times 2$ y $m \\times 2$ respectivamente, crea una matriz de $n\\times m$ en donde la entrada $(i,j)$ sea la distancia euclideana entre el punto $i$ del primero tensor y el punto $j$ del segundo tensor. Igual, la palabra \"for\" está prohibida.\n",
    "\n",
    "7. (**difícil**) Implementa, sin usar `@` ni matmul, multiplicación de matrices. Se vale usar *, +, sum y broadcasting.\n",
    "8. Dado una matriz $A$ de $n\\times m$ y un vector de enteros $b$ donde todos los números de $b$ van del 0 a m, selecciona los números en las columnas correspondientes a b y ponlos como -1. Por ejemplo, si \n",
    "$$A = \\begin{bmatrix}\n",
    "        0 & 1 & 2 & 3 \\\\\n",
    "        4 & 5 & 6 & 7 \\\\\n",
    "      \\end{bmatrix}$$\n",
    "y $b = [2, 0]$, entonces debe resultar en:\n",
    "$$A = \\begin{bmatrix}\n",
    "        0 & 1 & -1 & 3 \\\\\n",
    "        -1 & 5 & 6 & 7 \\\\\n",
    "      \\end{bmatrix}$$\n",
    "  \n",
    "9. Carga una imagen y muéstrala cortada a la mitad horizontalmente, dejando la parte de arriba.\n",
    "2. Muestra la imagen cortada a la mitad verticalmente, dejando la parte derecha.\n",
    "3. Llena la mitad de la imagen diagonalmente (tú escoge la diagonal) con negro y muestra la imagen.\n",
    "4. Convierte la imagen a escala de grises (directo con pytorch, obviamente)\n",
    "5. Encuentra el **color promedio** de la imagen.\n",
    "6. Para cada pixel, pon como 0 aquellos valores que estén debajo del promedio (de su propio color).\n",
    "7. Todos los pixeles que sean mayormente azules conviértelos a blanco y negro. Los pixeles mayormente rojos o verdes déjalos como están.\n",
    "8. Crea una imagen que parezca un tablero de ajedrez.\n",
    "9. Crea una imagen que parezca ruido de televisión (e.g. aleatorio pero en escala de grises)\n",
    "10. Crea una imagen que parezca una gradiente horizontal y luego una gradiente vertical.\n",
    "\n",
    "En todos los siguientes ejercicios, encuentra soluciones aproximadas!\n",
    "\n",
    "19. Encuentra un mínimo local de $\\cos(x)$.\n",
    "2. Encuentra una raíz de $\\sin(x+1) + x\\cos(2x^2)$\n",
    "3. Encuentra una raiz de $\\sin(x) + \\cos(y+1)$ que satisfaga $\\sqrt{|x|} + \\log(1+|y|) = 2$."
   ]
  },
  {
   "cell_type": "code",
   "execution_count": null,
   "metadata": {},
   "outputs": [],
   "source": []
  }
 ],
 "metadata": {
  "kernelspec": {
   "display_name": "Python 3",
   "language": "python",
   "name": "python3"
  },
  "language_info": {
   "codemirror_mode": {
    "name": "ipython",
    "version": 3
   },
   "file_extension": ".py",
   "mimetype": "text/x-python",
   "name": "python",
   "nbconvert_exporter": "python",
   "pygments_lexer": "ipython3",
   "version": "3.8.5"
  }
 },
 "nbformat": 4,
 "nbformat_minor": 4
}
