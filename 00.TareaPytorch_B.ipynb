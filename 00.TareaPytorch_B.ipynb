{
 "cells": [
  {
   "cell_type": "markdown",
   "metadata": {},
   "source": [
    "# Tarea pytorch, parte B\n",
    "\n",
    "Recuerda que no se vale utilizar la palabra `for`.\n",
    "\n",
    "\n",
    "1. Carga una imagen y muéstrala cortada a la mitad horizontalmente, dejando la parte de arriba.\n",
    "3. Muestra la imagen cortada a la mitad verticalmente, dejando la parte derecha.\n",
    "4. Llena la mitad de la imagen diagonalmente (tú escoge la diagonal) con negro y muestra la imagen.\n",
    "5. Convierte la imagen a escala de grises (directo con pytorch, obviamente)\n",
    "6. Encuentra el **color promedio** de la imagen.\n",
    "7. Para cada pixel, pon como 0 aquellos valores que estén debajo del promedio (de su propio color).\n",
    "8. Todos los pixeles que sean mayormente azules conviértelos a blanco y negro. Los pixeles mayormente rojos o verdes déjalos como están.\n",
    "9. Crea una imagen que parezca un tablero de ajedrez.\n",
    "10. Crea una imagen que parezca ruido de televisión (e.g. aleatorio pero en escala de grises)\n",
    "11. Crea una imagen que parezca una gradiente horizontal y luego una gradiente vertical.\n",
    "\n",
    "En todos los siguientes ejercicios, encuentra soluciones aproximadas!\n",
    "\n",
    "11. Encuentra un mínimo local de $\\cos(x)$.\n",
    "13. Encuentra una raíz de $\\sin(x+1) + x\\cos(2x^2)$\n",
    "14. Encuentra una raiz de $\\sin(x) + \\cos(y+1)$ que satisfaga $\\sqrt{|x|} + \\log(1+|y|) = 2$."
   ]
  },
  {
   "cell_type": "code",
   "execution_count": null,
   "metadata": {},
   "outputs": [],
   "source": []
  }
 ],
 "metadata": {
  "kernelspec": {
   "display_name": "Python 3",
   "language": "python",
   "name": "python3"
  },
  "language_info": {
   "codemirror_mode": {
    "name": "ipython",
    "version": 3
   },
   "file_extension": ".py",
   "mimetype": "text/x-python",
   "name": "python",
   "nbconvert_exporter": "python",
   "pygments_lexer": "ipython3",
   "version": "3.8.5"
  }
 },
 "nbformat": 4,
 "nbformat_minor": 4
}
