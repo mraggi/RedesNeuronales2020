{
 "cells": [
  {
   "cell_type": "markdown",
   "metadata": {},
   "source": [
    "# Tarea pytorch, parte A\n",
    "\n",
    "Recuerda que no se vale utilizar la palabra `for`.\n",
    "\n",
    "1. Encuentra la derivada de $x^2 + 2x + 5$ evaluada en $x = 1$ (con pytorch).\n",
    "2. ¿Para qué sirve squeeze y unsqueeze? ¿Qué recomiendo usar en vez de unsqueeze? \n",
    "3. Si tengo una matriz `A` de $8\\times 10$, ¿de qué tamaño será `A[1:6,-2:]`?\n",
    "4. Súmale 10 al primer renglón y 20 al segundo renglón. Escribe poquito.\n",
    "5. Crea una matriz de $n\\times m$ donde en la entrada $(i,j)$ esté el número $i+j$. No se vale usar la palabra `for`. Con `arange` e indizar.\n",
    "6. Dado dos tensores lineales de tamaño $n\\times 2$ y $m \\times 2$ respectivamente, crea una matriz de $n\\times m$ en donde la entrada $(i,j)$ sea la distancia euclideana entre el punto $i$ del primero tensor y el punto $j$ del segundo tensor. Igual, la palabra `for` está prohibida.\n",
    "7. Dado una matriz $A$ de $n\\times m$ y un vector de enteros $b$ donde todos los números de $b$ van del 0 a m, selecciona los números en las columnas correspondientes a $b$ y ponlos como $-1$. Por ejemplo, si \n",
    "\n",
    "$$A = \\begin{bmatrix}\n",
    "        0 & 1 & 2 & 3 \\\\\n",
    "        4 & 5 & 6 & 7 \\\\\n",
    "      \\end{bmatrix}$$\n",
    "y $b = [2, 0]$, entonces debe resultar en:\n",
    "\n",
    "$$A = \\begin{bmatrix}\n",
    "        0 & 1 & -1 & 3 \\\\\n",
    "        -1 & 5 & 6 & 7 \\\\\n",
    "      \\end{bmatrix}$$\n",
    "      \n",
    "8. (**difícil**) Implementa, sin usar `@` ni matmul, multiplicación de matrices. Se vale usar `*`, `+`, `sum` y broadcasting."
   ]
  },
  {
   "cell_type": "code",
   "execution_count": null,
   "metadata": {},
   "outputs": [],
   "source": []
  }
 ],
 "metadata": {
  "kernelspec": {
   "display_name": "Python 3",
   "language": "python",
   "name": "python3"
  },
  "language_info": {
   "codemirror_mode": {
    "name": "ipython",
    "version": 3
   },
   "file_extension": ".py",
   "mimetype": "text/x-python",
   "name": "python",
   "nbconvert_exporter": "python",
   "pygments_lexer": "ipython3",
   "version": "3.8.5"
  }
 },
 "nbformat": 4,
 "nbformat_minor": 4
}
